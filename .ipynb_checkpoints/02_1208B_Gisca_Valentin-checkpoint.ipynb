{
 "cells": [
  {
   "cell_type": "markdown",
   "id": "0f25b9d6",
   "metadata": {},
   "source": [
    "## <font color = '#0f0264'> <center> Referat laborator 02 </center></font>"
   ]
  },
  {
   "cell_type": "markdown",
   "id": "8ca642f8",
   "metadata": {},
   "source": [
    "Modificati titlul fisierului păstrând formatul acestuia, cu datele dvs:\n",
    "- numar grupa\n",
    "- nume\n",
    "- prenume"
   ]
  },
  {
   "cell_type": "markdown",
   "id": "fdf823ea",
   "metadata": {},
   "source": [
    "#### 1. \n",
    "Utilizând librăria PySpice, să se editeze netlistul circuitului din Figura 1; modul de notare a nodurilor circuitului este la alegere, cu exceptia nodului masei circuitului, care se noteaza conform sintaxei indicate in continutul teoretic al laboratorui. \n",
    "\n",
    "Schema electrica a circuitului este indicata in figura indicata mai jos\n",
    "\n",
    "<img src = '201.png' width = 300 height = 300>\n",
    "\n",
    "in care\n",
    "\n",
    "- sursa $V_A$ reprezinta o **sursa de tensiune continua**;\n",
    "- sursa $I_B$ reprezinta o **sursa de curent continuu**;\n",
    "- valorile tensiunii electrice, generata de sursa $V_A$, respectiv a curentului electric, generat de sursa $I_B$, precum si ale rezistentei electrice a rezistorului $R_1$, capacitatii electrice a condensatorului $C_2$, respectiv a inductantei magnetice a bobinei $L_3$, sunt indicate in tabelul de mai jos; fiecare student isi va extrage valorile in functie de numarul de ordine corespunzator.\n",
    "\n",
    "\n",
    "|Numar   |VA [V]        |IB [mA]      | R1[kOhm]   |C2[nF]     |  L3 [mH] |\n",
    "|:------:|:------------:|:-----------:|:----------:|:---------:|:--------:|\n",
    "|1       |5             |1.5          |2.2         |680        |18        |\n",
    "|2       |3             |1.8          |2.7         |480        |12        |\n",
    "|3       |4             |2.2          |3.1         |330        |25        |\n",
    "|4       |8             |2.4          |3.3         |220        |56        |\n",
    "|5       |9             |1.5          |4.1         |100        |62        |\n",
    "|6       |10            |1.8          |3.7         |150        |47        |\n",
    "|7       |2             |2.2          |3.9         |370        |51        |\n",
    "|8       |6             |3.3          |1.9         |420        |10        |\n",
    "|9       |11            |5.6          |4.7         |560        |24        |\n",
    "|10      |7             |2.7          |6.1         |620        |27        |\n",
    "|11      |4             |8.2          |4.7         |720        |37        |\n",
    "|12      |6             |6.1          |3.3         |820        |72        |\n",
    "|13      |9             |5.6          |6.1         |910        |39        |\n",
    "|14      |10            |7.2          |3.7         |120        |18        |\n",
    "|15      |2             |9.1          |4.7         |180        |91        |\n",
    "|16      |8             |5.6          |6.1         |390        |15        |\n",
    "|17      |3             |7.2          |3.7         |470        |12        |\n",
    "|18      |1             |9.1          |4.7         |480        |11        |"
   ]
  },
  {
   "cell_type": "code",
   "execution_count": 2,
   "id": "9bf85ba0",
   "metadata": {},
   "outputs": [],
   "source": [
    "# import untilitaree:\n",
    "from PySpice.Spice.Netlist import Circuit\n",
    "from PySpice.Unit import *\n",
    "\n",
    "# instanta circuit:\n",
    "circuit = Circuit('Circuit_Lab_1')\n",
    "\n",
    "# editare netlist circuit:\n",
    "R1 = circuit.R('1', 1, 2, 4.7@u_kOhm)\n",
    "C = circuit.C('2', 2, circuit.gnd, 720@u_nF)\n",
    "L = circuit.L('3', 2, 3, 37@u_mH)\n",
    "VA = circuit.V('A', 1, circuit.gnd, 4@u_V)\n",
    "IB = circuit.I('B', 3, circuit.gnd, 8.2@u_mA)\n"
   ]
  },
  {
   "cell_type": "markdown",
   "id": "533c767d",
   "metadata": {},
   "source": [
    "#### 2. \n",
    "Sa se listeze (printeze) netlist-ul care descrie schema electrica a circuitului si sa se verifice corectitudinea circuitului descris."
   ]
  },
  {
   "cell_type": "code",
   "execution_count": 3,
   "id": "2b4dd14f",
   "metadata": {},
   "outputs": [
    {
     "name": "stdout",
     "output_type": "stream",
     "text": [
      ".title Circuit_Lab_1\r\n",
      "R1 1 2 4.7kOhm\r\n",
      "C2 2 0 720nF\r\n",
      "L3 2 3 37mH\r\n",
      "VA 1 0 4V\r\n",
      "IB 3 0 8.2mA\r\n",
      "\n"
     ]
    }
   ],
   "source": [
    "# listare circuit:\n",
    "print(circuit)"
   ]
  },
  {
   "cell_type": "markdown",
   "id": "9f058bfd",
   "metadata": {},
   "source": [
    "#### 3. \n",
    "Sa se extraga parametrii electrici ai elementelor de circuit ale circuitului din Figura de mai sus, si sa se afiseze aceste informatii; parametrii electrici ai elementelor circuitului sunt:\n",
    "- VA: tensiune electrica\n",
    "- IB: curent electric\n",
    "- R1: rezistenta electrica\n",
    "- C2: capacitatea electrica\n",
    "- L3: inductanta magnetica"
   ]
  },
  {
   "cell_type": "code",
   "execution_count": 10,
   "id": "b16c666f",
   "metadata": {},
   "outputs": [
    {
     "name": "stdout",
     "output_type": "stream",
     "text": [
      "I = 8.2 mA\n",
      "R = 4.7 kΩ\n",
      "L = 37 mH\n"
     ]
    }
   ],
   "source": [
    "# extragere parametri electrici\n",
    "I_value_unit = IB.dc_value\n",
    "R_value_unit = R1.resistance\n",
    "L_value_unit = L.inductance\n",
    "\n",
    "# afisare parametri electrici\n",
    "\n",
    "print(f'I = {I_value_unit}')\n",
    "print(f'R = {R_value_unit}')\n",
    "print(f'L = {L_value_unit}')\n",
    "\n",
    "\n"
   ]
  },
  {
   "cell_type": "markdown",
   "id": "8a7c90ec",
   "metadata": {},
   "source": [
    "#### 4. \n",
    "a. Sa se extraga valorile parametrilor electrici ai elementelor de circuit ale circuitului din Figura de mai sus, si sa se afiseze aceste informatii. \n",
    "\n",
    "b. Sa se extraga unitatile de masura ale parametrilor electrici ai elementelor de circuit ale circuitului din Figura de mai sus, si sa se afiseze aceste informatii. "
   ]
  },
  {
   "cell_type": "code",
   "execution_count": 13,
   "id": "c429a0d1",
   "metadata": {},
   "outputs": [
    {
     "name": "stdout",
     "output_type": "stream",
     "text": [
      "I = 8.2\n",
      "R = 4.7\n",
      "L = 37\n",
      "I = A\n",
      "R = Ω\n",
      "L = H\n"
     ]
    }
   ],
   "source": [
    "# extragere valori parametri electrici\n",
    "I_value = IB.dc_value.value\n",
    "R_value = R1.resistance.value\n",
    "L_value = L.inductance.value\n",
    "# afisare valori parametri electrici\n",
    "print(f'I = {I_value}')\n",
    "print(f'R = {R_value}')\n",
    "print(f'L = {L_value}')\n",
    "# extragere unitati masura parametri electrici\n",
    "I_unit = IB.dc_value.unit\n",
    "R_unit = R1.resistance.unit\n",
    "L_unit = L.inductance.unit\n",
    "# afisare unitati masura parametri electrici\n",
    "print(f'I = {I_unit}')\n",
    "print(f'R = {R_unit}')\n",
    "print(f'L = {L_unit}')\n"
   ]
  },
  {
   "cell_type": "code",
   "execution_count": null,
   "id": "83739573",
   "metadata": {},
   "outputs": [],
   "source": []
  }
 ],
 "metadata": {
  "kernelspec": {
   "display_name": "Python 3 (ipykernel)",
   "language": "python",
   "name": "python3"
  },
  "language_info": {
   "codemirror_mode": {
    "name": "ipython",
    "version": 3
   },
   "file_extension": ".py",
   "mimetype": "text/x-python",
   "name": "python",
   "nbconvert_exporter": "python",
   "pygments_lexer": "ipython3",
   "version": "3.9.12"
  }
 },
 "nbformat": 4,
 "nbformat_minor": 5
}
