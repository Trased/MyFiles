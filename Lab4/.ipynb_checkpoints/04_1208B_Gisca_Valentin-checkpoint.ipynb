{
 "cells": [
  {
   "cell_type": "markdown",
   "id": "0f25b9d6",
   "metadata": {},
   "source": [
    "## <font color = '#0f0264'> <center> Referat laborator 04 </center></font>"
   ]
  },
  {
   "cell_type": "markdown",
   "id": "8ca642f8",
   "metadata": {},
   "source": [
    "Modificati titlul fisierului păstrând formatul acestuia, cu datele dvs:\n",
    "- numar grupa\n",
    "- nume\n",
    "- prenume"
   ]
  },
  {
   "cell_type": "markdown",
   "id": "6a4f58e3",
   "metadata": {},
   "source": [
    "## 1. Circuitul de polarizare al diodei"
   ]
  },
  {
   "cell_type": "markdown",
   "id": "fdf823ea",
   "metadata": {},
   "source": [
    "#### 1.1. Polarizarea directa a diodei\n",
    "Să se editeze circuitul de polarizare al diodei, indicat in Figura 1\n",
    "\n",
    "<img src = '403.png' width = 250 height = 250>\n",
    "\n",
    "Elementele circuitului de polarizare sunt:\n",
    "- sursa $V_{CC}$ reprezinta o **sursa de tensiune continua** - sursa de polarizare a diodei; valoarea tensiunii electrice generata de sursa $V_{CC}$ este este indicata in tabelul de mai jos; fiecare student isi va extrage valoarea in functie de numarul de ordine corespunzator;\n",
    "- rezistorul $R_1$ controleaza valoarea curentului continuu prin dioda si implicit valoarea Punctului Static de Functionare al acesteia; valoarea rezistentei electrice a rezistorului $R_1$ este indicata in tabelul de mai jos; fiecare student isi va extrage valoarea in functie de numarul de ordine corespunzator.\n",
    "\n",
    "|Numar   |VCC [V]      |R1 [kOhm]    |   \n",
    "|:------:|:-----------:|:-----------:|\n",
    "|1       |2            |0.12         |\n",
    "|2       |2            |0.18         |\n",
    "|3       |2            |0.22         |\n",
    "|4       |2            |0.27         |\n",
    "|5       |2            |0.33         |\n",
    "|6       |2.5          |0.39         |\n",
    "|7       |2.5          |0.47         |\n",
    "|8       |2.5          |0.56         |\n",
    "|9       |2.5          |0.62         |\n",
    "|10      |2.5          |0.68         |\n",
    "|11      |3            |0.72         |\n",
    "|12      |3            |0.82         |\n",
    "|13      |3            |0.91         |\n",
    "|14      |3            |1.2          |\n",
    "|15      |3            |1.8          |\n",
    "|16      |5            |2.2          |\n",
    "|17      |5            |3.3          |\n",
    "|18      |5            |4.3          |\n",
    "|19      |5            |3.3          |\n",
    "|20      |5            |4.3          |\n",
    "\n",
    "\n",
    "Parametrii modelului diodei sunt urmatorii (fiecare studenti isi alege modelul diodei in functie de numarul de ordine):\n",
    "\n",
    "|Numar   |Nume model dioda|IS [nA]   | RS [mOhm]   | BV [V]      | IBV [uA]  | N         | \n",
    "|:------:|:--------------:|:--------:|:-----------:|:-----------:|:---------:|:---------:|  \n",
    "|1 - 5   |1N4001          |14.11     | 33.89       | 75          | 10        | 1.984     |\n",
    "|6 - 10  |1N4007          |7.027     | 34.15       | 1000        | 0.05      | 1.808     |\n",
    "|11 - 20 |1N6515          |500       | 180         | 3600        | 100       | 13.5      |\n",
    "\n",
    "\n",
    "- sonda pentru masurarea curentului electric, introdusa in anodul diodei."
   ]
  },
  {
   "cell_type": "code",
   "execution_count": 5,
   "id": "69a078f6",
   "metadata": {},
   "outputs": [
    {
     "name": "stdout",
     "output_type": "stream",
     "text": [
      ".title Polarizarea Diodei\r\n",
      "VCC 1 0 3V\r\n",
      "R1 R1_plus 2 0.72kOhm\r\n",
      "D1 D1_cathode 0 D1N6515\r\n",
      "VR1_plus 1 R1_plus 0\r\n",
      "VD1_cathode 2 D1_cathode 0\r\n",
      ".model D1N6515 D (BV=3600V IBV=100uA IS=500nA N=13.5 RS=180mOhm)\r\n",
      "\n"
     ]
    }
   ],
   "source": [
    "# import utilitare\n",
    "\n",
    "from PySpice.Spice.Netlist import Circuit\n",
    "from PySpice.Unit import *\n",
    "\n",
    "# instanta circuit\n",
    "\n",
    "circuit = Circuit('Polarizarea Diodei')\n",
    "\n",
    "# model dioda\n",
    "\n",
    "circuit.model('D1N6515', 'D' , IS = 500@u_nA, RS = 180@u_mOhm, BV = 3600 @u_V, IBV = 100@u_uA, N=13.5)\n",
    "# netlist\n",
    "\n",
    "VCC = circuit.V('CC', 1,0,3@u_V)\n",
    "R1 = circuit.R('1',1,2,0.72@u_kOhm)\n",
    "D1 = circuit.Diode('1', 2,0, model = 'D1N6515')\n",
    "R1.plus.add_current_probe(circuit)\n",
    "D1.plus.add_current_probe(circuit)\n",
    "# afisare netlist\n",
    "print(circuit)"
   ]
  },
  {
   "cell_type": "markdown",
   "id": "bd964583",
   "metadata": {},
   "source": [
    "- sa se simuleze circuitul din Figura 1 la temperatura de lucru de $25^o C$ si la temperatura nominala de $25^o C$ \n",
    "- sa se efectueze o analiza de tip *operating_point* "
   ]
  },
  {
   "cell_type": "code",
   "execution_count": 6,
   "id": "9bf85ba0",
   "metadata": {},
   "outputs": [],
   "source": [
    "# instanta simulator\n",
    "simulator = circuit.simulator(nominal_temperature = 25, temperature = 25)\n",
    "# analiza circuit si salvare rezultate analiza\n",
    "analysis = simulator.operating_point()"
   ]
  },
  {
   "cell_type": "markdown",
   "id": "9263a371",
   "metadata": {},
   "source": [
    "- sa se determine Punctul Static de Functionare al diodei ($I_A$, $V_A$):\n",
    "  - sa se extraga informatiile din nodurile nodurile circuitului\n",
    "  - sa se calculeze valoarea tensiunii electrice $V_A$ care cade pe dioda\n",
    "  - sa se extraga informatiile din ramurile circuitului\n",
    "  - sa se extraga valoarea curentului continuu print dioda $I_A$"
   ]
  },
  {
   "cell_type": "code",
   "execution_count": 11,
   "id": "225c6337",
   "metadata": {},
   "outputs": [
    {
     "name": "stdout",
     "output_type": "stream",
     "text": [
      "V1 = 3.0 V\n",
      "V2 = 2.506 V\n",
      "VA = 2.506 V\n",
      "VR1 = 0.494 V\n",
      "PSF = (0.00069 A, 2.506 V)\n"
     ]
    }
   ],
   "source": [
    "# extragere informatii in nodurile circuitului\n",
    "import numpy as np\n",
    "\n",
    "analysis.nodes\n",
    "analysis.nodes.keys()\n",
    "\n",
    "V1 = analysis.nodes['1']\n",
    "V2 = analysis.nodes['2']\n",
    "V1_value = V1.item()\n",
    "V1_unit = V1.unit\n",
    "V2_value = V2.item()\n",
    "V2_unit = V2.unit\n",
    "print(f'V1 = {np.round(V1_value, 3)} {V1_unit}')\n",
    "print(f'V2 = {np.round(V2_value, 3)} {V2_unit}')\n",
    "# determinare tensiune continua pe dioda\n",
    "\n",
    "VA = V2\n",
    "VA_value = VA.item()\n",
    "VA_unit = VA.unit\n",
    "print(f'VA = {np.round(VA_value, 3)} {VA_unit}')\n",
    "\n",
    "# extragere informatii in ramurile circuitului\n",
    "\n",
    "VR1 = V1 - V2\n",
    "\n",
    "VR1_value = VR1.item()\n",
    "VR1_unit = VR1.unit\n",
    "\n",
    "print(f'VR1 = {np.round(VR1_value, 3)} {V1_unit}')\n",
    "\n",
    "I = analysis.branches['vr1_plus']\n",
    "# determinare curent continuu prin dioda\n",
    "\n",
    "IA = analysis.branches['vd1_cathode']\n",
    "# afisare P.S.F dioda\n",
    "\n",
    "print(f'PSF = ({np.round(IA.item(),5)} {IA.unit}, {np.round(VA_value,3)} {VA_unit})')"
   ]
  },
  {
   "cell_type": "markdown",
   "id": "19d7cb84",
   "metadata": {},
   "source": [
    "- sa se afiseze raspunsurile la urmatoarele intrebari: \n",
    "1. La care noduri ale circuitului sunt conectate din cele 2 terminale ale diodei?\n",
    "2. In ce regiune de functionare lucreaza dioda?"
   ]
  },
  {
   "cell_type": "code",
   "execution_count": null,
   "id": "d9457583",
   "metadata": {},
   "outputs": [],
   "source": [
    "# raspuns intrebare 1\n",
    "print('1. Anodul este conectat la nodul 2, iar catodul la masa.')\n",
    "# raspuns intrebare 2\n",
    "print('2. Dioda lucreaza in regiune de conductie directa')"
   ]
  },
  {
   "cell_type": "markdown",
   "id": "b2f9ba78",
   "metadata": {},
   "source": [
    "#### 1.2. Polarizarea directa a diodei - cresterea temperaturii de lucru a diodei\n",
    "Sa se repete simularea efectuata la punctul **1.1**, pentru cazul in care temperatura de lucru creste la $75^0C$; temperatura de lucru este reprezentata de catre parametrul *temperature* al functiei `simulator()`."
   ]
  },
  {
   "cell_type": "code",
   "execution_count": 36,
   "id": "2564e589",
   "metadata": {},
   "outputs": [
    {
     "name": "stdout",
     "output_type": "stream",
     "text": [
      ".title Polarizarea directa a diodei\r\n",
      "VCC 1 0 3V\r\n",
      "R1 R1_plus 2 0.72kOhm\r\n",
      "D1 D1_cathode 0 D1N6515\r\n",
      "VR1_plus 1 R1_plus 0\r\n",
      "VD1_cathode 2 D1_cathode 0\r\n",
      ".model D1N6515 D (BV=3600V IBV=100uA IS=500nA N=13.5 RS=180mOhm)\r\n",
      "\n",
      "V1 = 3.0 V\n",
      "V2 = 2.62 V\n",
      "VA = 2.62 V\n",
      "VR1 = 0.38 V\n",
      "VR2 = 2.62 V\n",
      "PSF = (0.00053 A, 2.62 V)\n"
     ]
    }
   ],
   "source": [
    "# import utilitare\n",
    "\n",
    "from PySpice.Spice.Netlist import Circuit\n",
    "from PySpice.Unit import *\n",
    "\n",
    "# instanta circuit\n",
    "\n",
    "circuit = Circuit('Polarizarea directa a diodei')\n",
    "\n",
    "# model dioda\n",
    "\n",
    "circuit.model('D1N6515', 'D' , IS = 500@u_nA, RS = 180@u_mOhm, BV = 3600 @u_V, IBV = 100@u_uA, N=13.5)\n",
    "\n",
    "# netlist\n",
    "\n",
    "VCC = circuit.V('CC', 1,0,3@u_V)\n",
    "R1 = circuit.R('1',1,2,0.72@u_kOhm)\n",
    "D1 = circuit.Diode('1', 2,  0, model = 'D1N6515')\n",
    "R1.plus.add_current_probe(circuit)\n",
    "D1.plus.add_current_probe(circuit)\n",
    "\n",
    "# afisare netlist\n",
    "\n",
    "print(circuit)\n",
    "\n",
    "# instanta simulator\n",
    "\n",
    "simulator = circuit.simulator(nominal_temperature = 25, temperature = 75)\n",
    "\n",
    "# analiza circuit\n",
    "\n",
    "analysis = simulator.operating_point()\n",
    "\n",
    "# extragere informatii in nodurile circuitului\n",
    "import numpy as np\n",
    "\n",
    "analysis.nodes\n",
    "analysis.nodes.keys()\n",
    "\n",
    "V1 = analysis.nodes['1']\n",
    "V2 = analysis.nodes['2']\n",
    "V1_value = V1.item()\n",
    "V1_unit = V1.unit\n",
    "V2_value = V2.item()\n",
    "V2_unit = V2.unit\n",
    "print(f'V1 = {np.round(V1_value, 3)} {V1_unit}')\n",
    "print(f'V2 = {np.round(V2_value, 3)} {V2_unit}')\n",
    "\n",
    "# calcul tensiune continua pe dioda\n",
    "\n",
    "VA = V2\n",
    "VA_val = VA.item()\n",
    "VA_unit = VA.unit\n",
    "print(f'VA = {np.round(VA_val,3)} {VA_unit}')\n",
    "\n",
    "# extragere informatii in ramurile circuitului\n",
    "\n",
    "VR1 = V1 - V2\n",
    "\n",
    "VR1_val = VR1.item()\n",
    "VR1_unit = VR1.unit\n",
    "print(f'VR1 = {np.round(VR1_val,3)} {VR1_unit}')\n",
    "print(f'VR2 = {np.round(VA_val,3)} {VA_unit}')\n",
    "\n",
    "I = analysis.branches['vr1_plus']\n",
    "\n",
    "# determinare curent continuu prin dioda\n",
    "\n",
    "IA = analysis.branches['vd1_cathode']\n",
    "\n",
    "# afisare P.S.F dioda\n",
    "print(f'PSF = ({np.round(IA.item(),5)} {IA.unit}, {np.round(VA_val,3)} {VA_unit})')"
   ]
  },
  {
   "cell_type": "markdown",
   "id": "ec330748",
   "metadata": {},
   "source": [
    "- afisati raspunsurile la urmatoarele intrebari: \n",
    "1. Ce se intampla cu valoarea curentului electric prin dioda, la cresterea temperaturii de lucru a acesteia?\n",
    "2. Ce se intampla cu valoarea tensiunii electrice prin dioda, la cresterea temperaturii de lucru a acesteia?"
   ]
  },
  {
   "cell_type": "code",
   "execution_count": 35,
   "id": "53f07e30",
   "metadata": {},
   "outputs": [
    {
     "name": "stdout",
     "output_type": "stream",
     "text": [
      "La cresterea temperaturii de lucru, valoarea curentului electric prin dioda creste ( 0.00053 A la 25C si 0.00069 A la 75C)\n",
      "La cresterea temperaturii de lucru, valoarea tensiunii electrice prin dioda scade ( 2.62 V la 25C si 2.506 V la 75C) \n"
     ]
    }
   ],
   "source": [
    "# raspuns intrebare 1\n",
    "print('La cresterea temperaturii de lucru, valoarea curentului electric prin dioda creste ( 0.00053 A la 25C si 0.00069 A la 75C)')\n",
    "# raspuns intrebare 2\n",
    "print('La cresterea temperaturii de lucru, valoarea tensiunii electrice prin dioda scade ( 2.62 V la 25C si 2.506 V la 75C) ')"
   ]
  },
  {
   "cell_type": "markdown",
   "id": "3606aa78",
   "metadata": {},
   "source": [
    "#### 1.3. Polarizarea inversa a diodei\n",
    "Sa se repete simularea efectuata la punctul **1.1**, pentru cazul in care temperatura de lucru revine la valoare de $25^0C$, dar dioda este conectata invers in circuit, asa cum se prezinta in Figura 2.\n",
    "\n",
    "<img src = '404.png' width = 250 height = 250>"
   ]
  },
  {
   "cell_type": "code",
   "execution_count": null,
   "id": "97827ee0",
   "metadata": {},
   "outputs": [],
   "source": [
    "# import utilitare\n",
    "\n",
    "from PySpice.Spice.Netlist import Circuit\n",
    "from PySpice.Unit import *\n",
    "\n",
    "# instanta circuit\n",
    "\n",
    "circuit = Circuit('Polarizarea in a diodei')\n",
    "\n",
    "# model dioda\n",
    "\n",
    "circuit.model('D1N6515', 'D' , IS = 500@u_nA, RS = 180@u_mOhm, BV = 3600 @u_V, IBV = 100@u_uA, N=13.5)\n",
    "\n",
    "# netlist\n",
    "\n",
    "VCC = circuit.V('CC', 1,0,3@u_V)\n",
    "R1 = circuit.R('1',1,2,0.72@u_kOhm)\n",
    "D1 = circuit.Diode('1', 2,  0, model = 'D1N6515')\n",
    "R1.plus.add_current_probe(circuit)\n",
    "D1.plus.add_current_probe(circuit)\n",
    "\n",
    "# afisare netlist\n",
    "\n",
    "print(circuit)\n",
    "\n",
    "# instanta simulator\n",
    "\n",
    "simulator = circuit.simulator(nominal_temperature = 25, temperature = 75)\n",
    "\n",
    "# analiza circuit\n",
    "\n",
    "analysis = simulator.operating_point()\n",
    "\n",
    "# extragere informatii in nodurile circuitului\n",
    "import numpy as np\n",
    "\n",
    "analysis.nodes\n",
    "analysis.nodes.keys()\n",
    "\n",
    "V1 = analysis.nodes['1']\n",
    "V2 = analysis.nodes['2']\n",
    "V1_value = V1.item()\n",
    "V1_unit = V1.unit\n",
    "V2_value = V2.item()\n",
    "V2_unit = V2.unit\n",
    "print(f'V1 = {np.round(V1_value, 3)} {V1_unit}')\n",
    "print(f'V2 = {np.round(V2_value, 3)} {V2_unit}')\n",
    "\n",
    "# calcul tensiune continua pe dioda\n",
    "\n",
    "VA = V2\n",
    "VA_val = VA.item()\n",
    "VA_unit = VA.unit\n",
    "print(f'VA = {np.round(VA_val,3)} {VA_unit}')\n",
    "\n",
    "# extragere informatii in ramurile circuitului\n",
    "\n",
    "VR1 = V1 - V2\n",
    "\n",
    "VR1_val = VR1.item()\n",
    "VR1_unit = VR1.unit\n",
    "print(f'VR1 = {np.round(VR1_val,3)} {VR1_unit}')\n",
    "print(f'VR2 = {np.round(VA_val,3)} {VA_unit}')\n",
    "\n",
    "I = analysis.branches['vr1_plus']\n",
    "\n",
    "# determinare curent continuu prin dioda\n",
    "\n",
    "IA = analysis.branches['vd1_cathode']\n",
    "\n",
    "# afisare P.S.F dioda\n",
    "print(f'PSF = ({np.round(IA.item(),5)} {IA.unit}, {np.round(VA_val,3)} {VA_unit})')"
   ]
  },
  {
   "cell_type": "markdown",
   "id": "5e55fbf4",
   "metadata": {},
   "source": [
    "- afisati raspunsurile la urmatoarele intrebari: \n",
    "1. La care noduri ale circuitului sunt conectate din cele 2 terminale ale diodei?\n",
    "2. In ce regiune de functionare lucreaza dioda?\n",
    "3. Cum este valoarea curentului care trece prin dioda in acest caz, fata de cazul considerat in analiza de la punctul 1.1?"
   ]
  },
  {
   "cell_type": "code",
   "execution_count": null,
   "id": "8ceac865",
   "metadata": {},
   "outputs": [],
   "source": [
    "# raspuns intrebare 1\n",
    "\n",
    "# raspuns intrebare 2\n",
    "\n",
    "# raspuns intrebare 3\n"
   ]
  }
 ],
 "metadata": {
  "kernelspec": {
   "display_name": "Python 3 (ipykernel)",
   "language": "python",
   "name": "python3"
  },
  "language_info": {
   "codemirror_mode": {
    "name": "ipython",
    "version": 3
   },
   "file_extension": ".py",
   "mimetype": "text/x-python",
   "name": "python",
   "nbconvert_exporter": "python",
   "pygments_lexer": "ipython3",
   "version": "3.9.13"
  }
 },
 "nbformat": 4,
 "nbformat_minor": 5
}
