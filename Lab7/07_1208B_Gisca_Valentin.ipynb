{
 "cells": [
  {
   "cell_type": "markdown",
   "id": "0f25b9d6",
   "metadata": {},
   "source": [
    "## <font color = '#0f0264'> <center> Referat laborator 07 </center></font>"
   ]
  },
  {
   "cell_type": "markdown",
   "id": "8ca642f8",
   "metadata": {},
   "source": [
    "Modificati titlul fisierului păstrând formatul acestuia, cu datele dvs:\n",
    "- numar grupa\n",
    "- nume\n",
    "- prenume"
   ]
  },
  {
   "cell_type": "markdown",
   "id": "6a4f58e3",
   "metadata": {},
   "source": [
    "## Polarizarea tranzistorului bipolar cu jonctiuni"
   ]
  },
  {
   "cell_type": "markdown",
   "id": "15347e0f",
   "metadata": {},
   "source": [
    "#### 1.1. Determinarea Punctului Static de Functionare al tranzistorului\n",
    "\n",
    "\n",
    "1. să se editeze circuitul de polarizare al tranzistorului, indicat in Figura 1\n",
    "\n",
    "<img src = '701.png' width = 300 height = 200>\n",
    "<p style=\"text-align: center;\">Figura 1. Circuitul de polarizare al tranzistorului bipolar </p>\n",
    "\n",
    "Elementele circuitului sunt:\n",
    "- sursa $V_{CC}$ reprezinta o **sursa de tensiune continua** - sursa de polarizare a tranzistorului; valoarea tensiunii electrice generata de sursa $V_{CC}$ este este indicata in Tabelul 1; \n",
    "- rezistoarele $R_{B1}, R_{B2}, R_C si R_E,$ controleaza valoarea Punctului Static de Functionare al tranzistorului, care este definit de perechea de marimi electice:\n",
    "  - curent continuu prin colector, $I_C$,\n",
    "  - tensiune continua colector-emitor, $V_{CE}$,\n",
    "- pentru tranzistorul bipolar $Q$ se alege modelul indicat in Tabelul 2.\n",
    "\n",
    "\n",
    "<p style=\"text-align: center;\">Tabelul 1. Sursa de alimentare si rezistoarele de polarizare </p>\n",
    "\n",
    "|Numar   |VCC [V]      |RB1 [kOhm]   | RB2 [kOhm]  |RC [kOhm]    |RE [Ohm]     |  \n",
    "|:------:|:-----------:|:-----------:|:-----------:|:-----------:|:-----------:|\n",
    "|1       |10           |47           |10           |1.2          |470          |\n",
    "|2       |10           |51           |12           |1.4          |510          |\n",
    "|3       |10           |56           |15           |1.8          |510          |\n",
    "|4       |10           |62           |18           |2.2          |560          |\n",
    "|5       |10           |69           |22           |2.7          |560          |\n",
    "|6       |12           |47           |12           |1.2          |510          |\n",
    "|7       |12           |56           |12           |1.2          |560          |\n",
    "|8       |12           |62           |15           |1.5          |560          |\n",
    "|9       |12           |69           |22           |1.5          |620          |\n",
    "|10      |12           |71           |27           |2.2          |620          |\n",
    "|11      |15           |47           |10           |1.5          |620          |\n",
    "|12      |15           |62           |18           |1.8          |620          |\n",
    "|13      |15           |69           |22           |1.8          |690          |\n",
    "|14      |15           |71           |27           |2.2          |690          |\n",
    "|15      |15           |82           |27           |2.7          |560          |\n",
    "|16      |15           |91           |29           |2.7          |690          |\n",
    "|17      |15           |100          |33           |2.7          |620          |\n",
    "|18      |15           |120          |27           |2.2          |620          |\n",
    "|19      |15           |150          |33           |2.2          |620          |\n",
    "|20      |15           |180          |33           |2.2          |620          |\n",
    "\n",
    "<p style=\"text-align: center;\"> Tabelul 2. Parametrii modelului trazistorului bipolar </p>\n",
    "\n",
    "|Numar   |Nume model tranzistor|BF    |IS[pA] |VCEO[V]|RB[Ohm]|RC[Ohm]|RE[Ohm]|CJE[pF]|CJC[pF]|\n",
    "|:------:|:-------------------:|:----:|:-----:|:-----:|:-----:|:-----:|:-----:|:-----:|:-----:|  \n",
    "|1 - 5   |2N2222               |100   |0.01   | 30    |10     |0.3    |0.2    |25     |8      |\n",
    "|6 - 10  |2N2369               |78    |0.04   | 15    |10     |0.6    |0.1    |4.5    |2.83   |\n",
    "|11 - 20  |2N3904               |300   |0.01   | 40    |20     |0.1    |0.1    |8      |4      |\n",
    "\n",
    "2. sa se simuleze circuitul din Figura 1 la temperatura de lucru de $25^o C$ si la temperatura nominala de $25^o C$ si sa se determine marimile electrice continue ale acestuia (tipul de analiza ales trebuie sa permita determinarea marimilor electrice continue);\n",
    "3. sa se determine valoarea Punctului Static de Functionare al tranzistorului ($I_C$, $V_{CE}$); pentru determinarea curentului electric de colector $I_C$, se va utiliza legea lui Ohm:\n",
    "\n",
    "$$ I_C = \\frac{V_{RC}}{R_C}$$\n"
   ]
  },
  {
   "cell_type": "code",
   "execution_count": 3,
   "id": "225c6337",
   "metadata": {},
   "outputs": [
    {
     "name": "stdout",
     "output_type": "stream",
     "text": [
      ".title Determinarea punctului Static de Functionare al tranzistorului\n",
      "R1 1 2 47kOhm\n",
      "R2 0 1 10kOhm\n",
      "RC RC_plus 3 1.5kOhm\n",
      "RE 4 0 0.62kOhm\n",
      "VCC 2 0 15V\n",
      "Q 3 1 4 2N3904\n",
      "VRC_plus 2 RC_plus 0\n",
      ".model 2N3904 npn (BF=300 CJC=4pF CJE=8pF IS=0.04pA RB=20Ohm RC=0.1Ohm RE=0.1Ohm VCEO=40V)\n",
      "\n",
      "PSF = (0.00306 A, 8.508 V)\n"
     ]
    }
   ],
   "source": [
    "# import utilitare\n",
    "from PySpice.Spice.Netlist import Circuit\n",
    "from PySpice.Unit import *\n",
    "import numpy as np\n",
    "# instanta circuit\n",
    "circuit1 = Circuit('Determinarea punctului Static de Functionare al tranzistorului')\n",
    "\n",
    "# model tranzistor\n",
    "circuit1.model('2N3904', 'npn', \n",
    "              BF = 300, IS = 0.04@u_pA, VCEO = 40@u_V,\n",
    "              RB = 20@u_Ohm, RC = 0.1@u_Ohm, RE = 0.1@u_Ohm,\n",
    "              CJC = 4@u_pF, CJE = 8@u_pF)\n",
    "# netlist\n",
    "RB1 = circuit1.R('1', 1, 2, 47@u_kOhm)\n",
    "RB2 = circuit1.R('2', 0, 1, 10@u_kOhm)\n",
    "RC = circuit1.R('C', 2, 3, 1.5@u_kOhm)\n",
    "RE = circuit1.R('E', 4, 0, 0.62@u_kOhm)\n",
    "VCC=circuit1.V('CC', 2, 0, 15@u_V)\n",
    "Q = circuit1.BJT('', 3, 1, 4, model = '2N3904')\n",
    "RC.plus.add_current_probe(circuit1)\n",
    "# afisare netlist\n",
    "print(circuit1)\n",
    "# instanta simulator\n",
    "simulator1 = circuit1.simulator(temperature = 25, nominal_temperature = 25)\n",
    "\n",
    "# analiza circuit si salvare rezultate analiza\n",
    "analysis1 = simulator1.operating_point()\n",
    "\n",
    "# determinare tensiune continua VCE\n",
    "VC = analysis1.nodes['3']\n",
    "VE = analysis1.nodes['4']\n",
    "VCE = VC-VE\n",
    "VCE_val = VCE.item()\n",
    "VCE_unit = VCE.unit\n",
    "# determinare curent continuu IC\n",
    "\n",
    "IC = analysis1.branches['vrc_plus']\n",
    "\n",
    "\n",
    "# afisare valoare P.S.F tranzistor (valoare numerica si unitate de masura)\n",
    "print(f'PSF = ({np.round(IC.item(),5)} {IC.unit}, {np.round(VCE_val,3)} {VCE_unit})')"
   ]
  },
  {
   "cell_type": "markdown",
   "id": "38659d02",
   "metadata": {},
   "source": [
    "4. sa se afiseze raspunsul la urmatoarea intrebare: <br> *In ce regiune de functionare lucreaza tranzistorul? Justificati raspunsul pe baza valorii tensiunii $V_{CE}$.*"
   ]
  },
  {
   "cell_type": "code",
   "execution_count": 12,
   "id": "d9457583",
   "metadata": {},
   "outputs": [
    {
     "name": "stdout",
     "output_type": "stream",
     "text": [
      "Tranzistorul lucreaza in regiunea activa normala, deoarece VCE se afla intre 0.5V si VCC-0.5V\n"
     ]
    }
   ],
   "source": [
    "# raspuns intrebare 1\n",
    "print(\"Tranzistorul lucreaza in regiunea activa normala, deoarece VCE se afla intre 0.5V si VCC-0.5V\")"
   ]
  },
  {
   "cell_type": "markdown",
   "id": "22a51b73",
   "metadata": {},
   "source": [
    "5. sa se identifice din modelul tranzistorului utilizat in circuit, valoarea factorului de ampificare in curent $\\beta$ si apoi, utilizand formulele furnizate in documentatia laboartorului, sa se calculeze valoarea numerica a Punctului Static de Functionare al tranzistorului."
   ]
  },
  {
   "cell_type": "code",
   "execution_count": 9,
   "id": "f47b9345",
   "metadata": {},
   "outputs": [
    {
     "data": {
      "text/plain": [
       "0.01817557803468208"
      ]
     },
     "execution_count": 9,
     "metadata": {},
     "output_type": "execute_result"
    }
   ],
   "source": [
    "IC\n",
    "\n"
   ]
  },
  {
   "cell_type": "code",
   "execution_count": 8,
   "id": "5bf98a28",
   "metadata": {},
   "outputs": [
    {
     "name": "stdout",
     "output_type": "stream",
     "text": [
      "IC = 0.0182 A\n",
      "VCE = 11.7763 V\n"
     ]
    }
   ],
   "source": [
    "# calcul IC:\n",
    "\n",
    "VBB = (RB1.resistance * VCC.dc_value) / (RB1.resistance + RB2.resistance) \n",
    "RB = (RB1.resistance * RB2.resistance) / (RB1.resistance + RB2.resistance)\n",
    "IC = 300 * (VBB - 0.6) / (RB + 300 * RE.resistance)\n",
    "\n",
    "# afisare valoarea IC si unitate masura:\n",
    "\n",
    "print(f'IC = {np.round(IC, 4)} A')\n",
    "\n",
    "# calcul VCE:\n",
    "\n",
    "VCE = 12 - IC * (10.41+1.90)\n",
    "\n",
    "# afisare valoarea VCE si unitate masura:\n",
    "\n",
    "print(f'VCE = {np.round(VCE, 4)} V')"
   ]
  },
  {
   "cell_type": "markdown",
   "id": "dee705e8",
   "metadata": {},
   "source": [
    "#### 1.2. Modificarea Punctului Static de Functionare in functie de valorile circuitului de polarizare\n",
    "\n",
    "1. sa se refaca punctul 1.1, pentru cazul in care valoarea rezistentei electrice a rezistorului $R_{B1}$ se micsoreaza de **10** fata de valoarea indicata in Tabelul 1  (exemplu: $R_{B1} = 47[kOhm] \\rightarrow R_{B1} = 4.7[kOhm]$)."
   ]
  },
  {
   "cell_type": "code",
   "execution_count": 6,
   "id": "1146a309",
   "metadata": {},
   "outputs": [
    {
     "name": "stdout",
     "output_type": "stream",
     "text": [
      "PSF = (0.00664 A, 0.049 V)\n"
     ]
    }
   ],
   "source": [
    "# import utilitare\n",
    "from PySpice.Spice.Netlist import Circuit\n",
    "from PySpice.Unit import *\n",
    "import numpy as np\n",
    "# instanta circuit\n",
    "circuit2 = Circuit('Modificarea Punctului Static de Functionare')\n",
    "\n",
    "# model tranzistor\n",
    "circuit2.model('2N3904', 'npn', \n",
    "              BF = 300, IS = 0.04@u_pA, VCEO = 40@u_V,\n",
    "              RB = 20@u_Ohm, RC = 0.1@u_Ohm, RE = 0.1@u_Ohm,\n",
    "              CJC = 4@u_pF, CJE = 8@u_pF)\n",
    "# netlist\n",
    "RB1 = circuit2.R('1', 1, 2, 4.7@u_kOhm)\n",
    "RB2 = circuit2.R('2', 0, 1, 10@u_kOhm)\n",
    "RC = circuit2.R('C', 2, 3, 1.5@u_kOhm)\n",
    "RE = circuit2.R('E', 4, 0, 0.62@u_kOhm)\n",
    "VCC=circuit2.V('CC', 2, 0, 15@u_V)\n",
    "Q = circuit2.BJT('', 3, 1, 4, model = '2N3904')\n",
    "RC.plus.add_current_probe(circuit2)\n",
    "# instanta simulator\n",
    "simulator2 = circuit2.simulator(temperature = 25, nominal_temperature = 25)\n",
    "\n",
    "# analiza circuit si salvare rezultate analiza\n",
    "analysis2 = simulator2.operating_point()\n",
    "\n",
    "# determinare tensiune continua VCE\n",
    "VC = analysis2.nodes['3']\n",
    "VE = analysis2.nodes['4']\n",
    "VCE = VC-VE\n",
    "VCE_val = VCE.item()\n",
    "VCE_unit = VCE.unit\n",
    "# determinare curent continuu IC\n",
    "\n",
    "IC = analysis2.branches['vrc_plus']\n",
    "\n",
    "# afisare valoare P.S.F tranzistor (valoare numerica si unitate de masura)\n",
    "print(f'PSF = ({np.round(IC.item(),5)} {IC.unit}, {np.round(VCE_val,3)} {VCE_unit})')"
   ]
  },
  {
   "cell_type": "markdown",
   "id": "75a3b845",
   "metadata": {},
   "source": [
    "2. sa se afiseze raspunsul la urmatoarea intrebare: <br> *In ce regiune de functionare lucreaza tranzistorul? Justificati raspunsul pe baza valorii tensiunii $V_{CE}$.*"
   ]
  },
  {
   "cell_type": "code",
   "execution_count": null,
   "id": "d3dbf3bb",
   "metadata": {},
   "outputs": [],
   "source": [
    "# raspuns intrebare 2\n",
    "print('Tranzistorul lucreaza in regiune de saturatie, deoarece VCE < 0.5V')"
   ]
  },
  {
   "cell_type": "markdown",
   "id": "7ac67c95",
   "metadata": {},
   "source": [
    "3. sa se refaca punctul 1.1, pentru cazul in care valoarea rezistentei electrice a rezistorului $R_{B1}$ se mareste de **10** fata de valoarea indicata in Tabelul 1  (exemplu: $R_{B1} = 47[kOhm] \\rightarrow R_{B1} = 470[kOhm]$)."
   ]
  },
  {
   "cell_type": "code",
   "execution_count": 9,
   "id": "bc17a993",
   "metadata": {},
   "outputs": [
    {
     "name": "stdout",
     "output_type": "stream",
     "text": [
      "PSF = (0.0 A, 15.0 V)\n"
     ]
    }
   ],
   "source": [
    "# import utilitare\n",
    "from PySpice.Spice.Netlist import Circuit\n",
    "from PySpice.Unit import *\n",
    "import numpy as np\n",
    "# instanta circuit\n",
    "circuit3 = Circuit('Modificarea Punctului Static de Functionare *10')\n",
    "\n",
    "# model tranzistor\n",
    "circuit3.model('2N3904', 'npn', \n",
    "              BF = 300, IS = 0.04@u_pA, VCEO = 40@u_V,\n",
    "              RB = 20@u_Ohm, RC = 0.1@u_Ohm, RE = 0.1@u_Ohm,\n",
    "              CJC = 4@u_pF, CJE = 8@u_pF)\n",
    "# netlist\n",
    "RB1 = circuit3.R('1', 1, 2, 470@u_kOhm)\n",
    "RB2 = circuit3.R('2', 0, 1, 10@u_kOhm)\n",
    "RC = circuit3.R('C', 2, 3, 1.5@u_kOhm)\n",
    "RE = circuit3.R('E', 4, 0, 0.62@u_kOhm)\n",
    "VCC=circuit3.V('CC', 2, 0, 15@u_V)\n",
    "Q = circuit3.BJT('', 3, 1, 4, model = '2N3904')\n",
    "RC.plus.add_current_probe(circuit3)\n",
    "# instanta simulator\n",
    "simulator3 = circuit3.simulator(temperature = 25, nominal_temperature = 25)\n",
    "\n",
    "# analiza circuit si salvare rezultate analiza\n",
    "analysis3 = simulator3.operating_point()\n",
    "\n",
    "# determinare tensiune continua VCE\n",
    "VC = analysis3.nodes['3']\n",
    "VE = analysis3.nodes['4']\n",
    "VCE = VC-VE\n",
    "VCE_val = VCE.item()\n",
    "VCE_unit = VCE.unit\n",
    "# determinare curent continuu IC\n",
    "\n",
    "IC = analysis3.branches['vrc_plus']\n",
    "\n",
    "# afisare valoare P.S.F tranzistor (valoare numerica si unitate de masura)\n",
    "print(f'PSF = ({np.round(IC.item(),5)} {IC.unit}, {np.round(VCE_val,3)} {VCE_unit})')"
   ]
  },
  {
   "cell_type": "markdown",
   "id": "0cd0f92b",
   "metadata": {},
   "source": [
    "4. sa se afiseze raspunsul la urmatoarea intrebare: <br> *In ce regiune de functionare lucreaza tranzistorul? Justificati raspunsul pe baza valorii tensiunii $V_{CE}$.*"
   ]
  },
  {
   "cell_type": "code",
   "execution_count": 13,
   "id": "b7d51f82",
   "metadata": {},
   "outputs": [
    {
     "name": "stdout",
     "output_type": "stream",
     "text": [
      "Tranzistorul lucreaza in regiune de blocare, deoarece VCE = VCC\n"
     ]
    }
   ],
   "source": [
    "# raspuns intrebare 3\n",
    "print('Tranzistorul lucreaza in regiune de blocare, deoarece VCE = VCC')"
   ]
  },
  {
   "cell_type": "markdown",
   "id": "1f18ff37",
   "metadata": {},
   "source": [
    "#### 1.3. Modificarea Punctului Static de Functionare la variatia temperaturii de lucru\n",
    "\n",
    "1. sa se refaca punctul 1.1, pentru cazul in care valoarea valoarea temperaturii de lucru a circuitului este modificata la valoarea $75^oC$; temperatura de lucru a circuitului este setata prin valoarea parametrului *temperature*."
   ]
  },
  {
   "cell_type": "code",
   "execution_count": 10,
   "id": "7ad70bed",
   "metadata": {},
   "outputs": [
    {
     "name": "stdout",
     "output_type": "stream",
     "text": [
      "PSF = (0.0032 A, 8.211 V)\n"
     ]
    }
   ],
   "source": [
    "# import utilitare\n",
    "from PySpice.Spice.Netlist import Circuit\n",
    "from PySpice.Unit import *\n",
    "import numpy as np\n",
    "# instanta circuit\n",
    "circuit4 = Circuit('Modificarea Punctului Static de Functionare *10')\n",
    "\n",
    "# model tranzistor\n",
    "circuit4.model('2N3904', 'npn', \n",
    "              BF = 300, IS = 0.04@u_pA, VCEO = 40@u_V,\n",
    "              RB = 20@u_Ohm, RC = 0.1@u_Ohm, RE = 0.1@u_Ohm,\n",
    "              CJC = 4@u_pF, CJE = 8@u_pF)\n",
    "# netlist\n",
    "RB1 = circuit4.R('1', 1, 2, 47@u_kOhm)\n",
    "RB2 = circuit4.R('2', 0, 1, 10@u_kOhm)\n",
    "RC = circuit4.R('C', 2, 3, 1.5@u_kOhm)\n",
    "RE = circuit4.R('E', 4, 0, 0.62@u_kOhm)\n",
    "VCC=circuit4.V('CC', 2, 0, 15@u_V)\n",
    "Q = circuit4.BJT('', 3, 1, 4, model = '2N3904')\n",
    "RC.plus.add_current_probe(circuit4)\n",
    "# instanta simulator\n",
    "simulator4 = circuit4.simulator(temperature = 75, nominal_temperature = 25)\n",
    "\n",
    "# analiza circuit si salvare rezultate analiza\n",
    "analysis4 = simulator4.operating_point()\n",
    "\n",
    "# determinare tensiune continua VCE\n",
    "VC = analysis4.nodes['3']\n",
    "VE = analysis4.nodes['4']\n",
    "VCE = VC-VE\n",
    "VCE_val = VCE.item()\n",
    "VCE_unit = VCE.unit\n",
    "# determinare curent continuu IC\n",
    "\n",
    "IC = analysis4.branches['vrc_plus']\n",
    "\n",
    "# afisare valoare P.S.F tranzistor (valoare numerica si unitate de masura)\n",
    "print(f'PSF = ({np.round(IC.item(),5)} {IC.unit}, {np.round(VCE_val,3)} {VCE_unit})')"
   ]
  },
  {
   "cell_type": "markdown",
   "id": "1e7a066c",
   "metadata": {},
   "source": [
    "2. sa se afiseze raspunsul la urmatoarea intrebare: <br> *Ce se intalmpla cu valoarea curentului de colector $I_C$ la cresterea temperaturii de lucru a circuitului.*"
   ]
  },
  {
   "cell_type": "code",
   "execution_count": 11,
   "id": "d1f519b7",
   "metadata": {},
   "outputs": [
    {
     "name": "stdout",
     "output_type": "stream",
     "text": [
      "Valoarea curentului de colector IC creste odata cu cresterea temperaturii\n"
     ]
    }
   ],
   "source": [
    "# raspuns intrebare 4\n",
    "print('Valoarea curentului de colector IC creste odata cu cresterea temperaturii')\n"
   ]
  },
  {
   "cell_type": "code",
   "execution_count": null,
   "id": "f86d9108",
   "metadata": {},
   "outputs": [],
   "source": []
  }
 ],
 "metadata": {
  "kernelspec": {
   "display_name": "Python 3 (ipykernel)",
   "language": "python",
   "name": "python3"
  },
  "language_info": {
   "codemirror_mode": {
    "name": "ipython",
    "version": 3
   },
   "file_extension": ".py",
   "mimetype": "text/x-python",
   "name": "python",
   "nbconvert_exporter": "python",
   "pygments_lexer": "ipython3",
   "version": "3.9.13"
  }
 },
 "nbformat": 4,
 "nbformat_minor": 5
}
