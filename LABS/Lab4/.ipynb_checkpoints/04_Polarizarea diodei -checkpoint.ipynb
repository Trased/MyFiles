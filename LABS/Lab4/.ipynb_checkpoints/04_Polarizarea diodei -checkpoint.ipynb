{
 "cells": [
  {
   "cell_type": "code",
   "execution_count": null,
   "id": "250b7d9e",
   "metadata": {},
   "outputs": [],
   "source": [
    "# DIODA - NOTIUNI INTRODUCTIVE\n",
    "from IPython.display import YouTubeVideo\n",
    "YouTubeVideo('vqQQN5yf1Oc', width=400, height=300)"
   ]
  },
  {
   "cell_type": "markdown",
   "id": "111433ef",
   "metadata": {},
   "source": [
    "# <font color = '#0f0264'> 1. Noțiuni teoretice </font>\n",
    "\n",
    "Dioda semiconductoare este un dispozitiv electronic al cărui simbol electronic este prezentat în Figura 1, împreună cu mărimile electrice de terminal (curent electric şi tensiune electrică). Dioda semiconductoare are două terminale, denumite **anod** şi **catod**. Prin convenție, se consideră că sensul pozitiv al ambelor marimi electrice ale diodei, $i_A$ (curentul electric care trece prin diodă) și $v_A$ (tensiunea electrică care cade între terminalele diodei), este de la anod spre catod. \n",
    "\n",
    "<img width = \"300\" height = \"200\" src=\"401.png\" imgborder = \"5\">\n",
    "<p style=\"text-align: center;\">Figura 1. Simbolul electronic şi mărimile electrice ale diodei </p>\n",
    "\n",
    "Funcționarea diodei este descrisă prin intermediul relației care există între mărimile sale de terminal, $i_A$ și $v_A$:\n",
    "\n",
    "$$ i_A = I_S \\cdot [e^\\frac{v_A}{V_T} - 1] $$\n",
    "\n",
    "\n",
    "unde:\n",
    "- $I_S$ reprezinta **curentul de saturație al diodei**, cu valori de ordinul $10^{-16} - 10^{-14}$ amperilor, \n",
    "- $V_T$ reprezintă **tensiunea termică**, a cărei valoare depinde de temperatura de lucru a diodei; se consideră că la temperatura camerei, $T = 25 ^0C$, valoarea tensiunii termice $V_T$ este de aproximativ $25 [mV]$; **valoarea tensiunii termice scade la cresterea temperaturii**.\n",
    "\n",
    "**Observatie:** valoarea curentului electric care trece prin dioda depinde de temperatura de lucru a diodei, prin intermediul tensiunii termice $V_T$; la cresterea valorii temperaturii de lucru a diodei, creste si valoarea curentului electric care trece prin aceasta.\n",
    "\n",
    "Graficul dependenței curentului $i_A$ de tensiunea $v_A$ se numește **caracteristica de funcţionare** a diodei, și este redat în Figura 2.\n",
    "\n",
    "<img width = \"280\" height = \"140\" src=\"402.png\" imgborder = \"5\">\n",
    "<p style=\"text-align: center;\">Figura 2. Caracteristica de funcționare a diodei. </p>\n",
    "\n",
    "Urmarind caracteristica de funcţionare a diodei se pot identifica 3 regiuni de functionare pentru dioda si anume:\n",
    "1. **Regiunea de conductie directa**: dacă se aplică o tensiune pozitivă pe diodă (potenţialul electric al anodului este superior potenţialului electric al catodului), se spune că aceasta funcţionează în **conducţie directă**:\n",
    "   - atât timp cât diferenţa de potenţial electric măsurat între anod şi catod este mai mică decât o anumită valoare numită **tensiune de prag** notată $V_D$, care, în cazul diodelor semiconductoare din siliciu (cele utilizate cu precădere în prezent) este de aproximativ 0,5 ÷ 0,7[V], curentul electric care trece prin diodă are o valoare foarte mică, care în mod ideal poate fi considerată nulă.\n",
    "   - dacă diferența de potențial electrică măsurată între anod și catod are o valoare apropiată de cea a tensiunii de prag $V_D$, curentul prin diodă $i_A$ începe să crească exponenţial, în funcţie de tensiunea $v_A$ aplicată pe terminalele diodei, conform relației indicate mai sus; după apariţia curentului electric prin diodă, aşa cum se observă din Figura 2, deşi curentul prin diodă creşte semnificativ, valoarea tensiunii pe aceasta rămâne la o valoare aproximativ constantă, în jurul valorii tensiunii de prag $V_D$. \n",
    "2. **Regiunea de conductie inversa**: dacă tensiunea aplicată la bornele diodei este negativă (potenţialul electric al anodului este inferior potenţialului electric al catodului) dar mai mică în modul decât o valoare de prag notată $V_B$, aceasta funcţionează în **conducţie inversă**; in acest caz, sensul curentului electric care trece se inverseaza (devine negativ), iar valoarea sa este foarte mică, aproximativ egală cu valoarea curentului de saturaţie $I_S$; în mod ideal, valoarea curentului electric care trece prin dioda este considerată ca fiind nulă. \n",
    "3. **Regiunea de strapungere**: dacă valoarea tensiunii negative depăşeşte valoarea $V_B$, numită **tensiune de străpungere**, dioda semiconductoare se străpunge, iar curentul electric prin ea creşte brusc şi necontrolat, existând pericolul distrugerii diodei respective (exceptie de la acest comportament distructiv face dioda Zener, care nu se distruge prin strapungere); pentru majoritatea tipurilor de diode (mai putin dioda Zener), valoarea tensiunii de strapungere in modul este de oprdinul sutelor de volti.\n",
    "\t\n",
    "**Observatie:** Din cele prezentate mai sus, pentru majoritatea aplicaţiilor se poate considera că dioda semiconductoare este un dispozitiv electronic care permite trecerea curentului electric într-un singur sens, de la anod spre catod, numai dacă pe aceasta se aplică o tensiune pozitivă de valoare aproximativ egală cu valoarea tensiunii de prag $V_D = 0.6[V]$. \n",
    "\n",
    "\n",
    "**Polarizarea diodei**: regiunea de funcţionare a diodei este stabilită prin polarizarea sa. Polarizarea diodei este realizată prin intermediul unui circuit electronic numit **circuit de polarizare**. Acesta conţine întotdeauna:\n",
    "- o sursă de alimentare (o **sursă de tensiune continuă** sau o **sursă de curent continuu**), care se mai numeşte şi sursă de polarizare \n",
    "- un rezistor de polarizare, care are rolul de a limita curentul prin diodă astfel încât aceasta să nu se distrugă prin depăşirea valorii maxim admise a curentului electric care trece prin ea, valoare care este furnizată în cataloagele de diode. \n",
    "\n",
    "**Polarizarea directa a diodei (*Forward Bias*)**: dacă circuitul de polarizare asigură un potenţial electric superior pe anod faţă de cel aplicat pe catodul diodei (o tensiune pozitivă pe diodă), atunci dioda respectivă funcţionează în regiunea de conducţie directă şi se spune că aceasta este polarizată direct; in acest caz, daca valoarea tensiunii aplicate pe dioda este in jurul valorii tensiunii de prag $V_D$, atunci prin dioda va trece un curent electric a carei valoare depinde exponential de valoarea tensiunii electrice aplicate pe dioda. \n",
    "\n",
    "**Polarizarea inversa a diodei (*Reverse Bias*)**: dacă circuitul de polarizare asigură un potenţial electric inferior pe anod faţă de cel aplicat pe catodul diodei (o tensiune negativă pe diodă), aceasta funcţionează în regiunea de conducţie inversă şi se spune că dioda respectivă este **polarizată invers**; \n",
    "- in acest caz, atat timp cat valoarea tensiunii aplicate pe dioda este in modul, mai mica decat valoarea tensiunii de strapungere $V_B$, prin dioda NU va trece un curent electric a carei valoare depinde exponential de valoarea tensiunii electrice aplicate pe dioda; \n",
    "- daca valoarea tensiunii care se aplica pe dioda este apropiata de cea a tensiunii de strapungere, atunci dioda se strapunge: valoarea curentului electric care trece prin ea creste necontrolat.  \n",
    "\n",
    "\n",
    "Circuitul de polarizare al diodei este prezentat în Figura 3, în care sursa $V_{CC}$ reprezintă sursa de polarizare, iar $R$ reprezintă rezistorul de polarizare. Deoarece potenţialul electric al anodului diodei este la o valoarea superioară celui aplicat pe catod (borna `+` a sursei de polarizare $V_{CC}$ se aplică pe anod prin rezistorul $R$, borna `–` a sursei de polarizare $V_{CC}$ se aplică pe catod), dioda $D$ funcţionează în regiunea de conducţie directă. În consecinţă, prin dioda $D$ apare un **curent continuu** nenul, notat $I_A$ iar pe diodă va cădea o **tensiune continua** notata $V_A$, a cărei valoare este apropiată de valoarea tensiunii de prag $V_D$. \n",
    "\n",
    " \n",
    "<img width = \"280\" height = \"140\" src=\"403.png\" imgborder = \"5\">\n",
    "<p style=\"text-align: center;\">Figura 3. Circuitul de polarizare al diodei. </p>\n",
    "\n",
    "**Punctul Static de Functionare** al diodei\n",
    "\n",
    "Perechea de mărimi electrice care apar la terminalele diodei ($I_A$-$V_A$), ale căror valori sunt stabilite de catre circuitul de polarizare al diodei, se numeşte **Punctul Static de Funcţionare** al diodei (prescurtat **P.S.F**). \n",
    "\n",
    "Punctul Static de Funcţionare al diodei caracterizează complet funcţionarea acesteia în **regim de curent continuu**, valoarea Punctului Static de Funţionare al diodei indicând regiunea de funcţionare a acesteia, în regim de curent continuu. "
   ]
  },
  {
   "cell_type": "markdown",
   "id": "624b1380",
   "metadata": {},
   "source": [
    "# <font color = '#0f0264'> 2. Modelarea comportamentului diodei in PySpice </font>\n",
    "\n",
    "In modelarea PySpice a unui circuit electronic, dioda se poate utiliza numai daca, in fisierul in care se editeaza schema electronica a circuitului, este disponibil un **model al diodei**. Modelul diodei utilizate se poate importa dintr-o librarie (daca aceasta este disponibila), sau poate fi creat.\n",
    "\n",
    "In continuare, se prezinta varianta in care modelul diodei este creat de catre utilizator. Modelul diodei contine o serie de parametri prin intermediul carora, comportamentul diodei poate fi descris. Mai jos sunt indicati o serie de parametri utilizati in modelarea diodei, modul in care sunt notati in PySpice precum si semnificatia acestora:\n",
    "\n",
    "| Parametru| Notatie PySpice| Unitate de masura| Semnificatie|\n",
    "|:--|:--:|:--:|:--|\n",
    "|Curentul de saturatui| IS| Amper| Valoarea curentului electric care trece prin dioda, atunci cand aceasta functioneaza in regiunea de conductie inversa|\n",
    "|Rezistenta serie a diodei| RS| Ohm| Rezistenta electrica a diodei|Valoarea rezistentei electrice a diodei, la trecerea curentului electric prin ea|\n",
    "|Tensiunea de strapungere| BV| Volt| Valoarea tensiunii la care dioda intra in regiunea de strapungere|\n",
    "|Curentul de strapungere| IBV| Amper| Valoarea curentului electric care trece prin dioda, la intrarea acesteia in regiunea de strapungere|\n",
    "|Factor de difuzie| N| -| Factorul de difuzie contribuie la modelarea fenomenului de conductie a curentului electric prin dioda|"
   ]
  },
  {
   "cell_type": "markdown",
   "id": "2027a23a",
   "metadata": {},
   "source": [
    "## <font color = '#0f0264'> 2.1. Modelarea PySpice a comportamentului diodei </font>   \n",
    "\n",
    "Sintaxa PySpice utilizata pentru crearea unui model al unei diode este urmatoarea:\n",
    "\n",
    "```python\n",
    "    instanta_circuit.model(nume_model, 'D', parametrii_modelului_diodei)\n",
    "```\n",
    "\n",
    "unde:\n",
    "- *nume_model* reprezinta numele utilizat pentru identificarwea modelului; acest nume va fi utilizat la crearea unei instante;\n",
    "- *parametrii_modelului_diodei* sunt parametrii modelului diodei, ale caror valori individualizeaza dioda modelata.   \n",
    "\n",
    "Exemplu:\n",
    "\n",
    "```python\n",
    "    # model de dioda \n",
    "    circuit.model('D1N4004', 'D', IS = 1@_nA, RS = 0.5@_Ohm, BV = 100@u_V, IBV = 1@_mA, N = 1.2)\n",
    "```"
   ]
  },
  {
   "cell_type": "markdown",
   "id": "23a461be",
   "metadata": {},
   "source": [
    "## <font color = '#0f0264'> 2.2. Instantierea diodei in circuit </font> \n",
    "\n",
    "Sintaxa PySpice utilizata pentru instantierea unei diode in circuit este urmatoarea:\n",
    "\n",
    "```python\n",
    "    nume_dioda = instanta_circuit.Diode(label, nod_anod, nod_catod, model = nume_model)\n",
    "```\n",
    "\n",
    "unde *nod_anod* si *nod_catod* sunt nodurile de circuit in care este conectat anodul, respectiv catodul diodei, iar *nume_model* este numele modelului utilizat la crearea sa (in campul *nume_model* al definitiei modelului diodei).\n",
    "\n",
    "Exemplu:\n",
    "\n",
    "```python\n",
    "    # instanta dioda\n",
    "    # anodul este conectat in nodul 1\n",
    "    # catodul este conectat la masa circuitului\n",
    "    D1 = circuit.Diode('1',   1,  0,    model = 'D1N4004')\n",
    "```"
   ]
  }
 ],
 "metadata": {
  "kernelspec": {
   "display_name": "Python 3 (ipykernel)",
   "language": "python",
   "name": "python3"
  },
  "language_info": {
   "codemirror_mode": {
    "name": "ipython",
    "version": 3
   },
   "file_extension": ".py",
   "mimetype": "text/x-python",
   "name": "python",
   "nbconvert_exporter": "python",
   "pygments_lexer": "ipython3",
   "version": "3.9.12"
  }
 },
 "nbformat": 4,
 "nbformat_minor": 5
}
