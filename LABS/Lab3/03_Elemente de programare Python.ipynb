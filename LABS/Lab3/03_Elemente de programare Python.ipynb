{
 "cells": [
  {
   "cell_type": "markdown",
   "id": "cb717442",
   "metadata": {},
   "source": [
    "# 0. Operatori aritmetici implementati in Python\n",
    "\n",
    "Operatorii aritmetici sunt aplicati unor operanzi de tip numeric (`int`, `float`, `complex`). Utilizarea acestor operatori genereaza **expresii aritmetice**, deoarece prin evaluarea acestora se returneaza o valoarea de tip numeric.\n",
    "\n",
    "Operatorii aritmetici implementati in limbajul Python sunt urmatorii:\n",
    "\n",
    "|caracter        | operator                                                                                            |\n",
    "|:-------------: |:---------------------------------------------------------------------------------------------------|\n",
    "|`**`            | operatorul de exponentiere (sau ridicare la patrat)|\n",
    "|`-`             | operatorul unar de inversare a semnului valorii numerice|\n",
    "|`*`             | operatorul de multiplicare|\n",
    "|`/`             | operatorul de divizare aritmetica - returneaza rezultatul impartirii operanzilor implicati in expresie|\n",
    "|`//`            |operatorul de divizare intreaga (**floor division**) - returneaza partea intreaga a rezultatului impartirii operanzilor implicati in expresie|\n",
    "|`%`             | operatorul rest - returneaza restul impartirii operanzilor implicati in expresie|\n",
    "|`+`             | operatorul de adunare|\n",
    "|`-`             | operatorul de scadere|\n",
    "\n",
    "Operatorii aritmetici se pot aplica unor operanzi care apartin unor clase diferite de date numerice (de exemplu `int` si `float`), caz in care expresia aritmetica este mixta. In evaluarea unor expresii aritmetice mixte, operandul de tip inferior este convertit temporar si automat la operandul de tip superior (in exemplul considerat, operandul `int` este convertit in `float`). Regulile de conversie sunt urmatoarele:\n",
    "\n",
    "- un operand `int` este convertit automat la un operand de tip `float` sau `complex`, in functie de tipul operandului de tip superior utilizat in expresie\n",
    "- un operand `float` este convertit automat la un operand de tip `complex`"
   ]
  },
  {
   "cell_type": "code",
   "execution_count": null,
   "id": "5e42153c",
   "metadata": {},
   "outputs": [],
   "source": [
    "# Exemplul 0: utilizarea operatorilor aritmetici in expresii aritmetice\n",
    "\n",
    "# initializarea a 2 variabile prin utilizarea intructiunii de atribuire multipla\n",
    "x, y = 10, 3\n",
    "\n",
    "#  expresii aritmetice\n",
    "x2y      = x**y\n",
    "minus_x  = -x\n",
    "xMy      = x*y\n",
    "xDy      = x / y\n",
    "xFDy     = x // y\n",
    "xRy      = x % y\n",
    "xAy      = x + y\n",
    "xSy      = x - y\n",
    "\n",
    "# afisare rezultate\n",
    "print('x =', x, ' y =', y)\n",
    "print('-'*20)\n",
    "print('x**y   = ', x2y)\n",
    "print('-x     = ', minus_x)\n",
    "print('x * y  = ', xMy)\n",
    "print('x / y  = ', xDy)\n",
    "print('x // y = ', xFDy)\n",
    "print('x % y  = ', xRy)\n",
    "print('x + y  = ', xAy)\n",
    "print('x - y  = ', xSy)\n",
    "print()\n",
    "\n",
    "# initializarea a 2 variabile din clase diferite \n",
    "x, y = 10, 3.0\n",
    "\n",
    "#  expresii aritmetice\n",
    "x2y      = x**y\n",
    "minus_x  = -x\n",
    "xMy      = x*y\n",
    "xDy      = x / y\n",
    "xFDy     = x // y\n",
    "xRy      = x % y\n",
    "xAy      = x + y\n",
    "xSy      = x - y\n",
    "\n",
    "# afisare rezultate\n",
    "print('x =', x, ' y =', y)\n",
    "print('-'*20)\n",
    "print('x**y   = ', x2y)\n",
    "print('-x     = ', minus_x)\n",
    "print('x * y  = ', xMy)\n",
    "print('x / y  = ', xDy)\n",
    "print('x // y = ', xFDy)\n",
    "print('x % y  = ', xRy)\n",
    "print('x + y  = ', xAy)\n",
    "print('x - y  = ', xSy)"
   ]
  },
  {
   "cell_type": "markdown",
   "id": "e201c659",
   "metadata": {},
   "source": [
    "# 1. Functia `print()`\n",
    "\n",
    "Utilizata pentru furnizarea datelor la dispozitivul standard de iesire (monitor).\n",
    "\n",
    "Sintaxa:\n",
    "```python\n",
    "print(data, sep = '', end = '',... )   # furnizeaza data la dispozitivul standard de iesire\n",
    "                                       # argumentele \"sep\" si \"end\" sunt optionale\n",
    "```\n",
    "\n",
    "Executie:\n",
    "- functia trimite data (informatia) la dispozitivul standard de iesire \n",
    "- dispozitivul standard de iesire implicit este reprezentat de catre monitor, caz in care continutul argumentului `data` este afisat pe monitor\n",
    "- `data` = informatia trimisa spre dispozitivul standard de iesire; poate fi un obiect, pot fi mai multe obiecte, separate prin caracterul virgula `,` sau pot fi expresii valide\n",
    "- `sep`  = seteaza continutul secventei care este utilizata pentru separarea obiectelor din continutul argumentului `data`; parametru optional   \n",
    "- `end`  = seteaza continutul secventei de final, care este utilizata dupa ce intreaga informatie din continutul argumentului `data`  a fost trimisa catre dispozitivul standard de iesire; parametru optional "
   ]
  },
  {
   "cell_type": "code",
   "execution_count": null,
   "id": "512a6dee",
   "metadata": {},
   "outputs": [],
   "source": [
    "# Exemplul 1: afisarea unui string\n",
    "print('Hello World!')"
   ]
  },
  {
   "cell_type": "code",
   "execution_count": null,
   "id": "58e9640e",
   "metadata": {},
   "outputs": [],
   "source": [
    "# Exemplul 2: afisarea continutului mai multor obiecte\n",
    "print('Hello World!', 'Hello Python!')"
   ]
  },
  {
   "cell_type": "code",
   "execution_count": null,
   "id": "8246d9b1",
   "metadata": {},
   "outputs": [],
   "source": [
    "# Exemplul 3: afisarea rezultatului unei expresii \n",
    "print('x =', 10+10)"
   ]
  },
  {
   "cell_type": "code",
   "execution_count": null,
   "id": "7a92fa4f",
   "metadata": {},
   "outputs": [],
   "source": [
    "# Exemplul 4: afisarea unui mesaj, cu setarea parametrului sep\n",
    "print('Hello World!', 'Hello Python!', sep = '...')"
   ]
  },
  {
   "cell_type": "code",
   "execution_count": null,
   "id": "2c9b226a",
   "metadata": {},
   "outputs": [],
   "source": [
    "# Exemplul 5: afisarea mesaj, cu utilizarea valorii implicite a parametrului end\n",
    "print('Hello World!')         # valoarea implicita a parametrului end este `newline`\n",
    "print('Hello Python!')"
   ]
  },
  {
   "cell_type": "code",
   "execution_count": null,
   "id": "26f284cc",
   "metadata": {},
   "outputs": [],
   "source": [
    "# Exemplul 6: afisarea mesaj, cu setarea parametrului end\n",
    "print('Hello World!', end = ' ... ')\n",
    "print('Hello Python!')"
   ]
  },
  {
   "cell_type": "markdown",
   "id": "3470d592",
   "metadata": {},
   "source": [
    "# 2. F-string-uri\n",
    "\n",
    "F-string-urile (sirurile de caractere formatate; f = format), ofera o solutie eficienta pentru formatarea sirurilor de caractere, prin inserarea unor variabile in continutului sirului de caractere respectiv; variabilele sunt inserate in continutul sirurilor de caractere in \"*placehold*-ere\" definite intre o pereche de caractere `{}`\n",
    "\n",
    "- Sintaxa:\n",
    "\n",
    "```python\n",
    "    f\".... {variabila_1}...\"\n",
    "```\n",
    "sau\n",
    "```python\n",
    "    f'.... {variabila_1}...'\n",
    "```"
   ]
  },
  {
   "cell_type": "code",
   "execution_count": null,
   "id": "26b99080",
   "metadata": {},
   "outputs": [],
   "source": [
    "# Exemplul 7: \n",
    "\n",
    "# variabile\n",
    "voltage    = 5                     # Volts\n",
    "resistance = 10                    # kilo Ohms\n",
    "current    = voltage / resistance  # mili Amperes\n",
    "\n",
    "# f-string\n",
    "result   = f'V = {voltage}[V], R = {resistance}[kOhm] => I = {current}[mA]'\n",
    "\n",
    "# afisare\n",
    "print(result)"
   ]
  },
  {
   "cell_type": "code",
   "execution_count": null,
   "id": "a226af32",
   "metadata": {},
   "outputs": [],
   "source": [
    "# F-STRINGS IN PYTHON\n",
    "from IPython.display import YouTubeVideo\n",
    "YouTubeVideo('nghuHvKLhJA', width=400, height=300)"
   ]
  },
  {
   "cell_type": "markdown",
   "id": "3abb419e",
   "metadata": {},
   "source": [
    "# 3. Dictionare\n",
    "\n",
    "In limbajul de programare Python, dictionarele sunt obiecte din clasa `dict`, care au urmatoarele proprietati: \n",
    "- dictionarul reprezinta un **container** utilizat pentru stocarea unor **colectii neordonate** de obiecte de oricare tip; \n",
    "- fiind o colectie neordonata, un dictionar nu organizeaza informatiile din continutul sau pe baza pozitiei ocupate de un element (pe baza unui index numeric) ci pe baza unei **chei**; \n",
    "- intr-un dictionar, fiecare element este identificat pe baza **cheii** sale; din acest motiv, intr-un dictionar:\n",
    "  - cheile trebuie sa fie **unice** - nu se permite duplicarea cheilor\n",
    "  - cheile trebuie sa fie obiecte **imutabile**: stringuri, obiecte de tip numeric sau booleean, sau `tuple`; un obiect imutabil este un obiect a carei valoare (stare) nu se poate modifica, dupa crearea sa.\n",
    "- intr-un dictionar, fiecare element este definit prin 2 componente:\n",
    "  - cheie (`key`)\n",
    "  - valoare (`value`)\n",
    "\n",
    "Asupra obiectelor de tip `dict` se pot opera o serie de actiuni, implementate prin *metodele* clasei `dict` (*metode* = functii implementate in clase Python)."
   ]
  },
  {
   "cell_type": "markdown",
   "id": "53bf6e8e",
   "metadata": {},
   "source": [
    "## 3.1. Crearea unui obiect de tip dictionar\n",
    "\n",
    "Cea mai simpla solutie utilizata pentru crearea unui obiect `dict` este reprezentata de metoda directa, in care, toate elementele dictionarului sunt precizate prin perechi\n",
    "\n",
    "```python\n",
    "   cheie:valoare\n",
    "```\n",
    "\n",
    "separate prin caracterul virgula `,` si inserate intre o pereche de caractere acolade `{...}`:\n",
    "\n",
    "Sintaxa:\n",
    "```python\n",
    "   dictionar = {key_1:value_1, ...., key_n:value_n}   # elementele sunt obiecte de orice tip\n",
    "```"
   ]
  },
  {
   "cell_type": "code",
   "execution_count": null,
   "id": "34ea6052",
   "metadata": {},
   "outputs": [],
   "source": [
    "# Exemplul 8:\n",
    "\n",
    "# creare dictionar componente electronice\n",
    "# contine 3 elemente\n",
    "components = {'R1': 120, 'C1': 220, 'L1': 10}\n",
    "\n",
    "# afisare dictionar\n",
    "print(components)"
   ]
  },
  {
   "cell_type": "markdown",
   "id": "3c71fb3e",
   "metadata": {},
   "source": [
    "## 3.2. Accesarea unui element al unui dictionar\n",
    "\n",
    "Un dictionar reprezinta o colectie de elemente, in care fiecare element este identificat si referit pe baza cheii sale. Un element dintr-un dictionar poate fi accesat prin intermediul operatorului **subscript** `[]`\n",
    "\n",
    "Sintaxa:\n",
    "```python\n",
    "   dictionar[cheie]    # returneaza valoarea elementului identificat prin cheia precizata;  \n",
    "```\n",
    "\n",
    "**Observatie:**\n",
    "- Daca elementul indentificat prin *cheie* nu apartine dictionarului, atunci utilizarea operatorului subscript `[]` lanseaza un mesaj de eroare de tipul `KeyError`."
   ]
  },
  {
   "cell_type": "code",
   "execution_count": null,
   "id": "efca8b6b",
   "metadata": {},
   "outputs": [],
   "source": [
    "# Exemplul 9\n",
    "\n",
    "# citire valori componente:\n",
    "R1_resistance  = components['R1']\n",
    "C1_capacitance = components['C1']\n",
    "L1_inductance  = components['L1']\n",
    "\n",
    "# afisare valori parametri electrici componente\n",
    "print(f'R1 = {R1_resistance}[Ohm]')\n",
    "print(f'C1 = {C1_capacitance}[nF]')\n",
    "print(f'L1 = {L1_inductance}[mH]')"
   ]
  },
  {
   "cell_type": "markdown",
   "id": "61ad4441",
   "metadata": {},
   "source": [
    "## 3.3. Accesarea continutului intregului dictionar\n",
    "\n",
    "Clasa `dict` furnizeaza 3 metode care pot fi utilizate pentru accesarea simultana a informatiilor care definesc elementele din continutul unui dictionar:\n",
    "- `items()`\n",
    "- `keys()`\n",
    "- `values()`\n",
    "\n",
    "Metoda `items()` returneaza o colectie care contine toate elementele unui dictionar, in care fiecare element este reprezentat sub forma unui `tuple` (*cheie*, *valoare*); `tuple` este un tip de container implementat in Python = colectie ordonata de elemente, imutabil.\n",
    "\n",
    "Sintaxa:\n",
    "```python\n",
    "   dictionar.items()     # returneaza o colectie care contine elemenetele dictionarului\n",
    "```\n",
    "\n",
    "Metoda `keys()` returneaza o colectie care contine cheile tuturor elementelor din continutul unui dictionar.\n",
    "\n",
    "Sintaxa:\n",
    "```python\n",
    "   dictionar.keys()      # returneaza o colectie care contine cheile elementelor din dictionar\n",
    "```\n",
    "\n",
    "Metoda `values()` returneaza o colectie care contine valorile tuturor elementelor din continutul unui dictionar.\n",
    "\n",
    "Sintaxa:\n",
    "```python\n",
    "   dictionar.values()     # returneaza o colectie care contine valorile elementelor din dictionar\n",
    "```"
   ]
  },
  {
   "cell_type": "code",
   "execution_count": null,
   "id": "8f4322c2",
   "metadata": {},
   "outputs": [],
   "source": [
    "# Exemplul 10\n",
    "\n",
    "keys   = components.keys()\n",
    "values = components.values()\n",
    "items  = components.items()\n",
    "\n",
    "print('keys: ', keys)\n",
    "print('values: ', values)\n",
    "print('items: ', items)"
   ]
  },
  {
   "cell_type": "markdown",
   "id": "34df09e2",
   "metadata": {},
   "source": [
    "## 3.4. Iterarea elementelor unui dictionar\n",
    "\n",
    "Se realizeaza pe baza buclei `for`:\n",
    "\n",
    "Sintaxa:\n",
    "```python\n",
    "    for item in secventa:\n",
    "        iteratie\n",
    "    else:                 # optional\n",
    "        iesire            # optional\n",
    "```\n",
    "unde, *secventa* reprezinta o colectie de elemente, iar *iteratie* reprezinta un segment de cod, care descrie actiunea repetitiva.\n",
    "<br>\n",
    "Modul de executie al buclei `for`:\n",
    "- la fiecare iteratie:\n",
    "  - *item* preia automat din *secventa* elementul care corespunde iteratiei curente \n",
    "  - se executa segmentul de cod *iteratie*, \n",
    "  - dupa care se se trece automat la urmatoarea iteratie \n",
    "- dupa ce au fost parcurse toate elementele din secventa, \n",
    "  - daca bucla `for` nu contine clauza `else`, se trece direct la executia instructiunii plasate pe urmatoarea linie de cod, dupa instructiunea `for` (fara ca *iesire* sa se execute)\n",
    "  - daca bucla `for` contine clauza `else`, se executa *iesire*, dupa care se trece la executia instructiunii plasate pe urmatoarea linie de cod, dupa instructiunea `for`\n",
    "<br>\n",
    "\n",
    "Numarul de iteratii depinde de dimensiunea (lungimea) *secventei*.\n",
    "\n",
    "In cazul dictionarelor, operatia de iterare a continutului dictionarelor se utilizeaza impreuna cu metodele `items()`,`keys()`,`values()`. "
   ]
  },
  {
   "cell_type": "code",
   "execution_count": null,
   "id": "db671c65",
   "metadata": {},
   "outputs": [],
   "source": [
    "# Exemplul 11.a\n",
    "\n",
    "# iterarea elementelor dictionarului:\n",
    "for k,v in components.items():\n",
    "    print(k,v)"
   ]
  },
  {
   "cell_type": "code",
   "execution_count": null,
   "id": "fca9ff45",
   "metadata": {},
   "outputs": [],
   "source": [
    "# Exemplul 11.b\n",
    "\n",
    "# iterarea cheilor dictionarului:\n",
    "for k in components.keys():\n",
    "    print(k)"
   ]
  },
  {
   "cell_type": "code",
   "execution_count": null,
   "id": "ec74c0c2",
   "metadata": {},
   "outputs": [],
   "source": [
    "# Exemplul 11.c\n",
    "\n",
    "# iterarea valorilor dictionarului:\n",
    "for v in components.values():\n",
    "    print(v)"
   ]
  },
  {
   "cell_type": "code",
   "execution_count": null,
   "id": "adcb03dc",
   "metadata": {},
   "outputs": [],
   "source": [
    "# DICTIONARE IN PYTHON\n",
    "from IPython.display import YouTubeVideo\n",
    "YouTubeVideo('daefaLgNkw0', width=400, height=300)\n",
    "#YouTubeVideo('LTXnQdrwyrw', width=400, height=300)"
   ]
  }
 ],
 "metadata": {
  "kernelspec": {
   "display_name": "Python 3 (ipykernel)",
   "language": "python",
   "name": "python3"
  },
  "language_info": {
   "codemirror_mode": {
    "name": "ipython",
    "version": 3
   },
   "file_extension": ".py",
   "mimetype": "text/x-python",
   "name": "python",
   "nbconvert_exporter": "python",
   "pygments_lexer": "ipython3",
   "version": "3.9.12"
  }
 },
 "nbformat": 4,
 "nbformat_minor": 5
}
