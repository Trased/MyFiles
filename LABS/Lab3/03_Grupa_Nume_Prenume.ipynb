{
 "cells": [
  {
   "cell_type": "markdown",
   "id": "0f25b9d6",
   "metadata": {},
   "source": [
    "## <font color = '#0f0264'> <center> Referat laborator 03 </center></font>"
   ]
  },
  {
   "cell_type": "markdown",
   "id": "8ca642f8",
   "metadata": {},
   "source": [
    "Modificati titlul fisierului păstrând formatul acestuia, cu datele dvs:\n",
    "- numar grupa\n",
    "- nume\n",
    "- prenume"
   ]
  },
  {
   "cell_type": "markdown",
   "id": "6a4f58e3",
   "metadata": {},
   "source": [
    "## 1. Divizorul rezistiv de tensiune electrica"
   ]
  },
  {
   "cell_type": "markdown",
   "id": "b5f35475",
   "metadata": {},
   "source": [
    "#### 1.1. NETLIST\n",
    "Utilizând librăria PySpice, să se editeze netlistul **divizorului rezistiv de tensiune**. Schema electrica a acestuia este indicata in Figura 1 (indicata mai jos) \n",
    "\n",
    "<img src = '301.png' width = 250 height = 250>\n",
    "\n",
    "in care\n",
    "\n",
    "- sursa $V_I$ reprezinta o **sursa de tensiune continua**;\n",
    "- valorile tensiunii generate de sursa $V_I$ si ale rezistentelor electrice ale rezistoarelor $R_1$ si $R_2$ sunt indicate in tabelul de mai jos; fiecare student isi va extrage valorile in functie de numarul de ordine corespunzator.\n",
    "\n",
    "|Numar   |VI [V]        |R1[kOhm]     |R2[kOhm]    |\n",
    "|:------:|:------------:|:-----------:|:----------:|\n",
    "|1       |10            |1.5          |2.2         |\n",
    "|2       |10            |1.8          |2.7         |\n",
    "|3       |10            |2.2          |3.1         |\n",
    "|4       |10            |2.4          |3.3         |\n",
    "|5       |10            |1.5          |4.1         |\n",
    "|6       |10            |1.8          |3.7         |\n",
    "|7       |10            |2.2          |3.9         |\n",
    "|8       |10            |3.3          |1.9         |\n",
    "|9       |10            |5.6          |4.7         |\n",
    "|10      |10            |2.7          |6.1         |\n",
    "|11      |10            |8.2          |4.7         |\n",
    "|12      |10            |6.1          |3.3         |\n",
    "|13      |10            |5.6          |6.1         |\n",
    "|14      |10            |7.2          |3.7         |\n",
    "|15      |10            |9.1          |4.7         |\n",
    "|16      |8             |5.6          |6.1         |\n",
    "|17      |8             |7.2          |3.7         |\n",
    "|18      |8             |9.1          |4.7         |\n",
    "\n",
    "Circuitul se numeste divizor de tensiune electrica pentru ca tensiunea electrica aplicata la bornele de intrare ale circuitului, $V_I$, se divizeaza pe cele 2 rezistoare conectate in serie, $R_1$ si $R_2$. \n",
    "\n",
    "Tensiunea de iesire a circuitului, notata in Figura 1 prin $V_O$, se poate determina teoretic cu ajutorul formulei:\n",
    "\n",
    "$$ V_O = \\frac{R_2}{R_1 + R_2} \\cdot V_I$$"
   ]
  },
  {
   "cell_type": "code",
   "execution_count": null,
   "id": "e35d5606",
   "metadata": {
    "scrolled": true
   },
   "outputs": [],
   "source": [
    "# DIVIZORUL REZISTIV DE TENSIUNE\n",
    "from IPython.display import YouTubeVideo\n",
    "YouTubeVideo('UdzPJ-cScvw', width=400, height=300)"
   ]
  },
  {
   "cell_type": "code",
   "execution_count": null,
   "id": "9bf85ba0",
   "metadata": {},
   "outputs": [],
   "source": [
    "# EDITARE CIRCUIT\n",
    "\n",
    "# import librarii-module-clase\n",
    "\n",
    "# instanta circuit\n",
    "\n",
    "# netlist\n"
   ]
  },
  {
   "cell_type": "markdown",
   "id": "533c767d",
   "metadata": {},
   "source": [
    "Sa se listeze (printeze) netlist-ul care descrie schema electrica a circuitului si sa se verifice corectitudinea circuitului descris."
   ]
  },
  {
   "cell_type": "code",
   "execution_count": null,
   "id": "2b4dd14f",
   "metadata": {},
   "outputs": [],
   "source": [
    "# AFISARE NETLIST:\n"
   ]
  },
  {
   "cell_type": "markdown",
   "id": "8a8cfa36",
   "metadata": {},
   "source": [
    "#### 1.2. SIMULARE CIRCUIT\n",
    "Sa se simuleze circuitul la temperatura de lucru de $25^o C$ si la temperatura nominala de $25^o C$2, pentru cazul in care analiza efectuata asupra acestuia este de tipul *operating_point*. "
   ]
  },
  {
   "cell_type": "code",
   "execution_count": null,
   "id": "83e01588",
   "metadata": {},
   "outputs": [],
   "source": [
    "# SIMULARE CIRCUIT\n",
    "\n",
    "# instanta simulator\n",
    "\n",
    "# analiza circuit si salvare rezultate analiza\n"
   ]
  },
  {
   "cell_type": "markdown",
   "id": "b2f9ba78",
   "metadata": {},
   "source": [
    "#### 1.3. ANALIZA REZULTATE \n",
    "**a**. sa se afiseze separat, nodurile circuitului si valorile potentialelor electrice in acestea; este necesar ca in dreptul valorii potentialului electric sa se precizeze si unitatea de masura."
   ]
  },
  {
   "cell_type": "code",
   "execution_count": null,
   "id": "1a565ce6",
   "metadata": {},
   "outputs": [],
   "source": [
    "# EXTRAGERE REZULTATE ANALIZA: POTENTIALELE ELECTRICE IN NODURI\n",
    "\n",
    "# extragere si salvare rezultate \n",
    "\n",
    "# afisare rezultate: \n",
    "# format:  nod = , potential electric =  [unit. masura]\n"
   ]
  },
  {
   "cell_type": "markdown",
   "id": "3606aa78",
   "metadata": {},
   "source": [
    "**b**. se calculeze valoarea tensiunii de iesire a circuitului, pe baza rezultatelor obtinute prin simulare si sa se afiseze aceasta valoare; sa se calculeze valoarea teoretica a tensiunii de iesire si sa se afiseze valoarea acesteia."
   ]
  },
  {
   "cell_type": "code",
   "execution_count": null,
   "id": "b20a73fe",
   "metadata": {},
   "outputs": [],
   "source": [
    "# MASURATORI CIRCUIT - decomentati si completati liniile care contin \" ... \"\n",
    "# calcul valoare tensiune iesire obtinuta prin simulare:\n",
    "# VO_simulat = ...\n",
    "\n",
    "# afisare valoare tensiune iesire obtinuta prin simulare: \n",
    "# print(...) \n",
    "\n",
    "# calcul tensiune iesire obtinuta prin formula teoretica:\n",
    "# VO_teoretic =  ... \n",
    "\n",
    "# afisare valoare tensiune iesire obtinuta prin formula teoretica:\n",
    "# print(...) \n"
   ]
  },
  {
   "cell_type": "markdown",
   "id": "c0f0d43c",
   "metadata": {},
   "source": [
    "**c**. se calculeze valoarea curentului electric care trece prin rezistorul $R_1$, pe baza potentialelor elecrice in nodurile in care aceasta este conectata si a valorii rezistentei electrice $R1$; sa se afiseze valoarea curentului electric prin $R_1$."
   ]
  },
  {
   "cell_type": "code",
   "execution_count": null,
   "id": "9b71e7f4",
   "metadata": {},
   "outputs": [],
   "source": [
    "# calcul curent i_R1\n",
    "\n",
    "# afisare valoare curent i_R1\n",
    "# print(..)\n"
   ]
  },
  {
   "cell_type": "markdown",
   "id": "4f62f2c4",
   "metadata": {},
   "source": [
    "## 2. Divizorul rezistiv de curent electric"
   ]
  },
  {
   "cell_type": "markdown",
   "id": "f378cb96",
   "metadata": {},
   "source": [
    "#### 2.1. NETLIST\n",
    "\n",
    "Utilizând librăria PySpice, să se editeze netlistul **divizorului rezistiv de curent**. Schema electrica a acestuia este indicata in Figura 2 (indicata mai jos) \n",
    "\n",
    "<img src = '302.png' width = 250 height = 250> \n",
    "\n",
    "in care\n",
    "\n",
    "- sursa $I_I$ reprezinta o **sursa de curent continuu**;\n",
    "- valorile curentului electric generat de sursa $I_I$ sunt indicate in tabelul de mai jos - fiecare student isi va extrage valorile in functie de numarul de ordine corespunzator; pentru valorile rezistentelor electrice ale rezistoarelor $R_1$ si $R_2$ se pastreaza datele de la primul circuit.\n",
    "\n",
    "|Numar   |II [mA]        |R1[kOhm]    |R2[kOhm]    |\n",
    "|:------:|:------------:|:-----------:|:----------:|\n",
    "|1       |5            |1.5          |2.2         |\n",
    "|2       |5            |1.8          |2.7         |\n",
    "|3       |5            |2.2          |3.1         |\n",
    "|4       |5            |2.4          |3.3         |\n",
    "|5       |5            |1.5          |4.1         |\n",
    "|6       |8            |1.8          |3.7         |\n",
    "|7       |8            |2.2          |3.9         |\n",
    "|8       |8            |3.3          |1.9         |\n",
    "|9       |8            |5.6          |4.7         |\n",
    "|10      |10           |2.7          |6.1         |\n",
    "|11      |10            |8.2          |4.7         |\n",
    "|12      |10            |6.1          |3.3         |\n",
    "|13      |10            |5.6          |6.1         |\n",
    "|14      |12            |7.2          |3.7         |\n",
    "|15      |12            |9.1          |4.7         |\n",
    "|16      |12             |5.6          |6.1         |\n",
    "|17      |12             |7.2          |3.7         |\n",
    "|18      |12             |9.1          |4.7         |\n",
    "\n",
    "Circuitul se numeste divizor de curent electric pentru ca valoarea curentului electric, aplicat la bornele de intrare ale circuitului, $I_I$, se divizeaza pe cele 2 rezistoare conectate in paralel, $R_1$ si $R_2$. \n",
    "\n",
    "Curentul de iesire al circuitului, notat in Figura 2 prin $I_O$, se poate determina teoretic cu ajutorul formulei:\n",
    "\n",
    "\n",
    "$$ I_O = \\frac{R_1}{R_1 + R_2} \\cdot I_I$$"
   ]
  },
  {
   "cell_type": "code",
   "execution_count": null,
   "id": "29b644e9",
   "metadata": {},
   "outputs": [],
   "source": [
    "# DIVIZORUL REZISTIV DE CURENT\n",
    "from IPython.display import YouTubeVideo\n",
    "YouTubeVideo('VojwBoSHc8U', width=400, height=300)"
   ]
  },
  {
   "cell_type": "code",
   "execution_count": null,
   "id": "a6c2e661",
   "metadata": {},
   "outputs": [],
   "source": [
    "# EDITARE CIRCUIT\n",
    "\n",
    "# import librarii-module-clase\n",
    "\n",
    "# instanta circuit\n",
    "\n",
    "# netlist\n"
   ]
  },
  {
   "cell_type": "markdown",
   "id": "406519c9",
   "metadata": {},
   "source": [
    "Sa se listeze (printeze) netlist-ul care descrie schema electrica a circuitului si sa se verifice corectitudinea circuitului descris."
   ]
  },
  {
   "cell_type": "code",
   "execution_count": null,
   "id": "04921b00",
   "metadata": {},
   "outputs": [],
   "source": [
    "# AFISARE NETLIST:\n"
   ]
  },
  {
   "cell_type": "markdown",
   "id": "8b6a3853",
   "metadata": {},
   "source": [
    "#### 2.2. INSERARE SONDE MASURA CURENT ELECTRIC\n",
    "Sa se insereze in circuitul editat 2 sonde de masura, care permit masurarea curentului electric prin cele 2 rezistoare ale circuitului, in sensul curentilor respectivi (punctul de inserare va fi la terminalul `+` al rezistoarelor)."
   ]
  },
  {
   "cell_type": "code",
   "execution_count": null,
   "id": "aa551d31",
   "metadata": {},
   "outputs": [],
   "source": [
    "# INSERARE SONDE CURENT\n",
    "\n",
    "# sonda curent R1\n",
    "\n",
    "# sonda curent R2\n"
   ]
  },
  {
   "cell_type": "markdown",
   "id": "de894e98",
   "metadata": {},
   "source": [
    "#### 2.3. SIMULARE CIRCUIT\n",
    "Sa se simuleze circuitul la temperatura de lucru de $25^o C$ si la temperatura nominala de $25^o C$2, pentru cazul in care analiza efectuata asupra acestuia este de tipul *operating_point*. "
   ]
  },
  {
   "cell_type": "code",
   "execution_count": null,
   "id": "7366cd22",
   "metadata": {},
   "outputs": [],
   "source": [
    "# SIMULARE CIRCUIT\n",
    "\n",
    "# instanta simulator\n",
    "\n",
    "# analiza circuit si salvare rezultate analiza\n"
   ]
  },
  {
   "cell_type": "markdown",
   "id": "603fc1c5",
   "metadata": {},
   "source": [
    "#### 2.4. ANALIZA REZULTATE \n",
    "**a**. sa se afiseze pe rand, pentru fiecare rezistor, valoarea curentului electric care trece prin acesta; este necesar ca in dreptul valorii curentului electric sa se precizeze si unitatea de masura."
   ]
  },
  {
   "cell_type": "code",
   "execution_count": null,
   "id": "7dcb12de",
   "metadata": {},
   "outputs": [],
   "source": [
    "# EXTRAGERE REZULTATE ANALIZA: CURENTII ELECTRICI IN REZISTOARE\n",
    "\n",
    "# extragere si salvare rezultate \n",
    "\n",
    "# afisare rezultate: \n",
    "# format:  componenta = , curent electric =  [unit. masura]\n"
   ]
  },
  {
   "cell_type": "markdown",
   "id": "e903de94",
   "metadata": {},
   "source": [
    "\n",
    "**b**. se se afiseze valoarea curentului de iesire a circuitului, obtinut prin simulare; sa se calculeze valoarea teoretica a curentului de iesire si sa se afiseze valoarea acestuia."
   ]
  },
  {
   "cell_type": "code",
   "execution_count": null,
   "id": "4f1d3d33",
   "metadata": {},
   "outputs": [],
   "source": [
    "# MASURATORI CIRCUIT - decomentati si completati liniile care contin \" ... \"\n",
    "# afisare curent iesire obtinut prin simulare: \n",
    "# print(...) \n",
    "\n",
    "# calcul curent iesire obtinut prin formula teoretica:\n",
    "# IO_teoretic =  ... \n",
    "\n",
    "# afisare valoare curent iesire obtinut prin formula teoretica:\n",
    "# print(...) \n"
   ]
  }
 ],
 "metadata": {
  "kernelspec": {
   "display_name": "Python 3",
   "language": "python",
   "name": "python3"
  },
  "language_info": {
   "codemirror_mode": {
    "name": "ipython",
    "version": 3
   },
   "file_extension": ".py",
   "mimetype": "text/x-python",
   "name": "python",
   "nbconvert_exporter": "python",
   "pygments_lexer": "ipython3",
   "version": "3.8.8"
  }
 },
 "nbformat": 4,
 "nbformat_minor": 5
}
